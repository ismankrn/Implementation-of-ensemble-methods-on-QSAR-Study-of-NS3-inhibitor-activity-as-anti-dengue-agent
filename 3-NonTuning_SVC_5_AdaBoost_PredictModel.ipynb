{
 "cells": [
  {
   "cell_type": "code",
   "execution_count": 1,
   "metadata": {},
   "outputs": [],
   "source": [
    "import pandas as pd\n",
    "import pickle\n",
    "import numpy as np\n",
    "from sklearn.metrics import roc_curve, auc\n",
    "from sklearn.svm import SVC\n",
    "import matplotlib.pyplot as plt\n",
    "from sklearn.ensemble import AdaBoostClassifier\n",
    "from sklearn.model_selection import GridSearchCV\n",
    "from sklearn.metrics import classification_report\n",
    "from sklearn.metrics import confusion_matrix, accuracy_score, precision_score, recall_score, f1_score, roc_auc_score, matthews_corrcoef"
   ]
  },
  {
   "cell_type": "code",
   "execution_count": 2,
   "metadata": {},
   "outputs": [
    {
     "data": {
      "text/plain": [
       "(217, 2603)"
      ]
     },
     "execution_count": 2,
     "metadata": {},
     "output_type": "execute_result"
    }
   ],
   "source": [
    "train = pd.read_csv('train.csv')\n",
    "X_train = train.iloc[:,:-1]\n",
    "y_train = train.iloc[:,-1]\n",
    "train.shape"
   ]
  },
  {
   "cell_type": "code",
   "execution_count": 3,
   "metadata": {},
   "outputs": [
    {
     "data": {
      "text/html": [
       "<div>\n",
       "<style scoped>\n",
       "    .dataframe tbody tr th:only-of-type {\n",
       "        vertical-align: middle;\n",
       "    }\n",
       "\n",
       "    .dataframe tbody tr th {\n",
       "        vertical-align: top;\n",
       "    }\n",
       "\n",
       "    .dataframe thead th {\n",
       "        text-align: right;\n",
       "    }\n",
       "</style>\n",
       "<table border=\"1\" class=\"dataframe\">\n",
       "  <thead>\n",
       "    <tr style=\"text-align: right;\">\n",
       "      <th></th>\n",
       "      <th>SM1_Dzs</th>\n",
       "      <th>AATS1dv</th>\n",
       "      <th>C2SP2.1</th>\n",
       "      <th>AATSC0v</th>\n",
       "      <th>ATSC2m</th>\n",
       "    </tr>\n",
       "  </thead>\n",
       "  <tbody>\n",
       "    <tr>\n",
       "      <th>0</th>\n",
       "      <td>3.062025</td>\n",
       "      <td>11.174603</td>\n",
       "      <td>10</td>\n",
       "      <td>43.713379</td>\n",
       "      <td>337.017311</td>\n",
       "    </tr>\n",
       "    <tr>\n",
       "      <th>1</th>\n",
       "      <td>-1.292857</td>\n",
       "      <td>8.266667</td>\n",
       "      <td>12</td>\n",
       "      <td>46.971209</td>\n",
       "      <td>111.863599</td>\n",
       "    </tr>\n",
       "    <tr>\n",
       "      <th>2</th>\n",
       "      <td>1.769358</td>\n",
       "      <td>9.673333</td>\n",
       "      <td>15</td>\n",
       "      <td>47.308650</td>\n",
       "      <td>165.223676</td>\n",
       "    </tr>\n",
       "    <tr>\n",
       "      <th>3</th>\n",
       "      <td>1.768889</td>\n",
       "      <td>10.424242</td>\n",
       "      <td>11</td>\n",
       "      <td>45.145236</td>\n",
       "      <td>18.615523</td>\n",
       "    </tr>\n",
       "    <tr>\n",
       "      <th>4</th>\n",
       "      <td>-0.510204</td>\n",
       "      <td>6.911111</td>\n",
       "      <td>10</td>\n",
       "      <td>54.043565</td>\n",
       "      <td>517.659334</td>\n",
       "    </tr>\n",
       "  </tbody>\n",
       "</table>\n",
       "</div>"
      ],
      "text/plain": [
       "    SM1_Dzs    AATS1dv  C2SP2.1    AATSC0v      ATSC2m\n",
       "0  3.062025  11.174603       10  43.713379  337.017311\n",
       "1 -1.292857   8.266667       12  46.971209  111.863599\n",
       "2  1.769358   9.673333       15  47.308650  165.223676\n",
       "3  1.768889  10.424242       11  45.145236   18.615523\n",
       "4 -0.510204   6.911111       10  54.043565  517.659334"
      ]
     },
     "execution_count": 3,
     "metadata": {},
     "output_type": "execute_result"
    }
   ],
   "source": [
    "X_train = X_train[['SM1_Dzs','AATS1dv','C2SP2.1','AATSC0v','ATSC2m']]\n",
    "X_train.head()"
   ]
  },
  {
   "cell_type": "code",
   "execution_count": 4,
   "metadata": {},
   "outputs": [
    {
     "data": {
      "text/plain": [
       "(55, 5)"
      ]
     },
     "execution_count": 4,
     "metadata": {},
     "output_type": "execute_result"
    }
   ],
   "source": [
    "test = pd.read_csv('test.csv')\n",
    "X_test = test.loc[:,['SM1_Dzs','AATS1dv','C2SP2.1','AATSC0v','ATSC2m']]\n",
    "y_test = test.iloc[:,-1]\n",
    "X_test.shape"
   ]
  },
  {
   "cell_type": "code",
   "execution_count": 5,
   "metadata": {},
   "outputs": [],
   "source": [
    "#define model (parameter)\n",
    "boost = AdaBoostClassifier(random_state=3)"
   ]
  },
  {
   "cell_type": "code",
   "execution_count": 6,
   "metadata": {},
   "outputs": [
    {
     "data": {
      "text/plain": [
       "AdaBoostClassifier(algorithm='SAMME.R', base_estimator=None,\n",
       "          learning_rate=1.0, n_estimators=50, random_state=3)"
      ]
     },
     "execution_count": 6,
     "metadata": {},
     "output_type": "execute_result"
    }
   ],
   "source": [
    "#fit model\n",
    "boost.fit(X_train, y_train)"
   ]
  },
  {
   "cell_type": "code",
   "execution_count": 7,
   "metadata": {},
   "outputs": [],
   "source": [
    "# predicting the train set results\n",
    "y_pred_train = boost.predict(X_train)"
   ]
  },
  {
   "cell_type": "code",
   "execution_count": 8,
   "metadata": {},
   "outputs": [],
   "source": [
    "# predicting the test set results\n",
    "y_pred_test = boost.predict(X_test)"
   ]
  },
  {
   "cell_type": "code",
   "execution_count": 9,
   "metadata": {},
   "outputs": [],
   "source": [
    "y_proba_train = boost.predict_proba(X_train)"
   ]
  },
  {
   "cell_type": "code",
   "execution_count": 10,
   "metadata": {},
   "outputs": [],
   "source": [
    "y_proba_test = boost.predict_proba(X_test)"
   ]
  },
  {
   "cell_type": "code",
   "execution_count": 11,
   "metadata": {},
   "outputs": [],
   "source": [
    "y_proba_train = y_proba_train[:,1]"
   ]
  },
  {
   "cell_type": "code",
   "execution_count": 12,
   "metadata": {},
   "outputs": [],
   "source": [
    "y_proba_test = y_proba_test[:,1]"
   ]
  },
  {
   "cell_type": "code",
   "execution_count": 13,
   "metadata": {},
   "outputs": [],
   "source": [
    "#y_proba_train"
   ]
  },
  {
   "cell_type": "code",
   "execution_count": 14,
   "metadata": {},
   "outputs": [],
   "source": [
    "#y_proba_test"
   ]
  },
  {
   "cell_type": "code",
   "execution_count": 15,
   "metadata": {},
   "outputs": [
    {
     "data": {
      "text/plain": [
       "0.9507803121248499"
      ]
     },
     "execution_count": 15,
     "metadata": {},
     "output_type": "execute_result"
    }
   ],
   "source": [
    "AUC_train = roc_auc_score(y_train, y_proba_train)\n",
    "AUC_train"
   ]
  },
  {
   "cell_type": "code",
   "execution_count": 16,
   "metadata": {},
   "outputs": [
    {
     "data": {
      "text/plain": [
       "0.6379310344827587"
      ]
     },
     "execution_count": 16,
     "metadata": {},
     "output_type": "execute_result"
    }
   ],
   "source": [
    "AUC_test= roc_auc_score(y_test, y_proba_test)\n",
    "AUC_test"
   ]
  },
  {
   "cell_type": "code",
   "execution_count": 17,
   "metadata": {},
   "outputs": [],
   "source": [
    "fpr1, tpr1, _ = roc_curve(y_train, y_proba_train)\n",
    "fpr2, tpr2, _ = roc_curve(y_test, y_proba_test)"
   ]
  },
  {
   "cell_type": "code",
   "execution_count": 18,
   "metadata": {},
   "outputs": [
    {
     "name": "stdout",
     "output_type": "stream",
     "text": [
      "confusion matrix:\n",
      "[[ 81  17]\n",
      " [  9 110]]\n",
      "classification report:\n",
      "              precision    recall  f1-score   support\n",
      "\n",
      "           0       0.90      0.83      0.86        98\n",
      "           1       0.87      0.92      0.89       119\n",
      "\n",
      "   micro avg       0.88      0.88      0.88       217\n",
      "   macro avg       0.88      0.88      0.88       217\n",
      "weighted avg       0.88      0.88      0.88       217\n",
      "\n",
      "accuracy score  : 0.880184331797235\n",
      "roc_auc score   : 0.9507803121248499\n",
      "MCC             : 0.7584827636097249\n"
     ]
    }
   ],
   "source": [
    "#Evaluating the Algorithm train set\n",
    "\n",
    "print('confusion matrix:')\n",
    "print(confusion_matrix(y_train,y_pred_train))\n",
    "print('classification report:')\n",
    "print(classification_report(y_train, y_pred_train))\n",
    "print('accuracy score  :',accuracy_score(y_train, y_pred_train))\n",
    "print('roc_auc score   :',roc_auc_score(y_train, y_proba_train))\n",
    "print('MCC             :',matthews_corrcoef(y_train, y_pred_train))"
   ]
  },
  {
   "cell_type": "code",
   "execution_count": 19,
   "metadata": {},
   "outputs": [
    {
     "name": "stdout",
     "output_type": "stream",
     "text": [
      "confusion matrix:\n",
      "[[12 17]\n",
      " [ 5 21]]\n",
      "classification report:\n",
      "              precision    recall  f1-score   support\n",
      "\n",
      "           0       0.71      0.41      0.52        29\n",
      "           1       0.55      0.81      0.66        26\n",
      "\n",
      "   micro avg       0.60      0.60      0.60        55\n",
      "   macro avg       0.63      0.61      0.59        55\n",
      "weighted avg       0.63      0.60      0.59        55\n",
      "\n",
      "accuracy score  : 0.6\n",
      "roc_auc score   : 0.6379310344827587\n",
      "MCC             : 0.2392844844320316\n"
     ]
    }
   ],
   "source": [
    "#Evaluating the Algorithm test set\n",
    "\n",
    "print('confusion matrix:')\n",
    "print(confusion_matrix(y_test,y_pred_test))\n",
    "print('classification report:')\n",
    "print(classification_report(y_test, y_pred_test))\n",
    "print('accuracy score  :',accuracy_score(y_test, y_pred_test))\n",
    "print('roc_auc score   :',roc_auc_score(y_test, y_proba_test))\n",
    "print('MCC             :',matthews_corrcoef(y_test, y_pred_test))"
   ]
  },
  {
   "cell_type": "code",
   "execution_count": 20,
   "metadata": {},
   "outputs": [],
   "source": [
    "#plt.plot(fpr1, tpr1, color='red', label='Model 4')\n",
    "#plt.xlabel('False Positive Rate')\n",
    "#plt.ylabel('True Positive Rate')\n",
    "#plt.title('Receiver Operating Characteristic Train Set')\n",
    "#plt.legend(loc=\"lower right\")\n",
    "#plt.savefig('ROC AB5 train.png', dpi = 1000)"
   ]
  },
  {
   "cell_type": "code",
   "execution_count": 21,
   "metadata": {},
   "outputs": [],
   "source": [
    "#plt.plot(fpr2, tpr2, color='black', label='Model 4 - AB 5 (AUC = %0.2f)' % AUC_test)\n",
    "#plt.xlabel('False Positive Rate')\n",
    "#plt.ylabel('True Positive Rate')\n",
    "#plt.title('Receiver Operating Characteristic Test Set')\n",
    "#plt.legend(loc=\"lower right\")\n",
    "#plt.savefig('ROC AB5 test.png', dpi = 1000)"
   ]
  },
  {
   "cell_type": "code",
   "execution_count": 22,
   "metadata": {},
   "outputs": [],
   "source": [
    "#plt.plot(fpr1, tpr1, color='red', label='Model 4 - AB 5 (AUC = %0.2f)' % AUC_train)\n",
    "#plt.plot(fpr2, tpr2, color='black', label='Model 4 - AB 5 (AUC = %0.2f)' % AUC_test)\n",
    "#plt.xlabel('False Positive Rate')\n",
    "#plt.ylabel('True Positive Rate')\n",
    "#plt.title('Receiver Operating Characteristic Model 4 (5 AB)')\n",
    "#plt.legend(loc=\"lower right\")\n",
    "#plt.savefig('ROC AB5.png', dpi = 1000)"
   ]
  }
 ],
 "metadata": {
  "kernelspec": {
   "display_name": "Python 3",
   "language": "python",
   "name": "python3"
  },
  "language_info": {
   "codemirror_mode": {
    "name": "ipython",
    "version": 3
   },
   "file_extension": ".py",
   "mimetype": "text/x-python",
   "name": "python",
   "nbconvert_exporter": "python",
   "pygments_lexer": "ipython3",
   "version": "3.7.3"
  }
 },
 "nbformat": 4,
 "nbformat_minor": 2
}
