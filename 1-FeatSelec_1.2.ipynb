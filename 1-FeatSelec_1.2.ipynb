{
 "cells": [
  {
   "cell_type": "code",
   "execution_count": 15,
   "metadata": {},
   "outputs": [],
   "source": [
    "import pandas as pd\n",
    "import numpy as np\n",
    "import pickle\n",
    "from sklearn.model_selection import train_test_split\n",
    "from sklearn.metrics.pairwise import cosine_similarity\n",
    "from sklearn.metrics import pairwise_distances\n",
    "from scipy.spatial.distance import cosine\n",
    "from scipy.stats.stats import pearsonr"
   ]
  },
  {
   "cell_type": "code",
   "execution_count": 16,
   "metadata": {},
   "outputs": [
    {
     "data": {
      "text/plain": [
       "(217, 2603)"
      ]
     },
     "execution_count": 16,
     "metadata": {},
     "output_type": "execute_result"
    }
   ],
   "source": [
    "#open train file\n",
    "trainDF = pd.read_csv(\"train.csv\")\n",
    "trainDF.shape"
   ]
  },
  {
   "cell_type": "code",
   "execution_count": 17,
   "metadata": {},
   "outputs": [
    {
     "data": {
      "text/plain": [
       "(55, 2603)"
      ]
     },
     "execution_count": 17,
     "metadata": {},
     "output_type": "execute_result"
    }
   ],
   "source": [
    "testDF = pd.read_csv(\"test.csv\")\n",
    "testDF.shape"
   ]
  },
  {
   "cell_type": "code",
   "execution_count": 18,
   "metadata": {},
   "outputs": [],
   "source": [
    "#Class = target, X_train = all column except target/predictor\n",
    "Class = trainDF.iloc[:,-1]\n",
    "X_train = trainDF.iloc[:,:-1]"
   ]
  },
  {
   "cell_type": "code",
   "execution_count": 19,
   "metadata": {},
   "outputs": [
    {
     "data": {
      "text/plain": [
       "(217, 2153)"
      ]
     },
     "execution_count": 19,
     "metadata": {},
     "output_type": "execute_result"
    }
   ],
   "source": [
    "# removing zero variance\n",
    "X_train = X_train.loc[:, X_train.var() != .0]\n",
    "X_train.shape"
   ]
  },
  {
   "cell_type": "code",
   "execution_count": 20,
   "metadata": {},
   "outputs": [
    {
     "data": {
      "text/plain": [
       "(217, 950)"
      ]
     },
     "execution_count": 20,
     "metadata": {},
     "output_type": "execute_result"
    }
   ],
   "source": [
    "# removing low stdev\n",
    "X_train = X_train.loc[:, X_train.std() > .95]\n",
    "X_train.shape"
   ]
  },
  {
   "cell_type": "code",
   "execution_count": 21,
   "metadata": {},
   "outputs": [
    {
     "name": "stdout",
     "output_type": "stream",
     "text": [
      "descriptor number after removing descriptor with similar value more than 50.0%: 854\n"
     ]
    }
   ],
   "source": [
    "# REMOVE DESCRIPTOR WITH SIMILAR VALUE MORE THAN 50%\n",
    "num_desc = X_train.shape[1]\n",
    "lim_ = 0.50\n",
    "red_lim = int(lim_ * X_train.shape[0])\n",
    "label_ = X_train.columns.values\n",
    "rem_idx = np.arange(num_desc).tolist()\n",
    "for i in range(num_desc):\n",
    "    dup_val = X_train.pivot_table(index=[\"{}\".format(label_[i])], aggfunc='size')\n",
    "    tmp = dup_val.tolist()\n",
    "    flag = 0\n",
    "    for x in tmp:\n",
    "        if x > red_lim:\n",
    "            flag = 1\n",
    "    if flag == 1:\n",
    "        rem_idx.remove(i)\n",
    "label_idx = label_[rem_idx]\n",
    "X_train = X_train.loc[:,label_idx]\n",
    "print(\"descriptor number after removing descriptor with similar value more than {}%: {}\".format((lim_*100),X_train.shape[1]))"
   ]
  },
  {
   "cell_type": "code",
   "execution_count": 22,
   "metadata": {},
   "outputs": [],
   "source": [
    "corr_y = []\n",
    "for i in range(X_train.shape[1]):\n",
    "    tmp = pearsonr(X_train.iloc[:,i], Class)\n",
    "    tmp = np.abs(tmp[0])\n",
    "    corr_y.append(tmp)"
   ]
  },
  {
   "cell_type": "code",
   "execution_count": 23,
   "metadata": {},
   "outputs": [],
   "source": [
    "idx_ = []\n",
    "for i in range(len(corr_y)):\n",
    "    if (corr_y[i] > 0.20):\n",
    "        idx_.append(i)"
   ]
  },
  {
   "cell_type": "code",
   "execution_count": 24,
   "metadata": {},
   "outputs": [
    {
     "data": {
      "text/plain": [
       "(217, 22)"
      ]
     },
     "execution_count": 24,
     "metadata": {},
     "output_type": "execute_result"
    }
   ],
   "source": [
    "X_train = X_train.iloc[:,idx_]\n",
    "X_train.shape"
   ]
  },
  {
   "cell_type": "code",
   "execution_count": 25,
   "metadata": {},
   "outputs": [
    {
     "name": "stdout",
     "output_type": "stream",
     "text": [
      "descriptor number after removing low correlation with target: 22\n"
     ]
    }
   ],
   "source": [
    "# -----------REMOVE FEATURE WITH LOW CORRELATION TO Y RESPONSE (Pearson < 0.1)---------------------\n",
    "label_ = X_train.columns.values\n",
    "pic50 = Class\n",
    "corr_y = [pearsonr(X_train.iloc[:,i],pic50) for i in range(X_train.shape[1])]\n",
    "corr_y = [np.abs(corr_y[i][0]) for i in range(X_train.shape[1])]\n",
    "corr_lim = 0.10\n",
    "hi_corr = []\n",
    "for i in range(len(corr_y)):\n",
    "    if corr_y[i] > corr_lim:\n",
    "        hi_corr.append(i)\n",
    "label_idx = label_[hi_corr]\n",
    "X_train = X_train.loc[:,label_idx]\n",
    "print(\"descriptor number after removing low correlation with target: {}\".format(X_train.shape[1]))"
   ]
  },
  {
   "cell_type": "code",
   "execution_count": 26,
   "metadata": {},
   "outputs": [
    {
     "name": "stdout",
     "output_type": "stream",
     "text": [
      "descriptor number after removing high correlation descriptor: 11\n"
     ]
    }
   ],
   "source": [
    "# -----------REMOVE FEATURE WITH HIGH CORRELATION TO OTHER FEATURE (Pearson > 0.9)---------------------\n",
    "# re-calculate correlation with pic50\n",
    "label_ = X_train.columns.values\n",
    "corr_y = [pearsonr(X_train.iloc[:,i],Class) for i in range(X_train.shape[1])]\n",
    "corr_y = [np.abs(corr_y[i][0]) for i in range(X_train.shape[1])]\n",
    "desc_num = X_train.shape[1]\n",
    "# calculate correlation for each descriptor\n",
    "corr_matrix = np.corrcoef(X_train.T)\n",
    "corr_lim = 0.90\n",
    "low_corr = np.arange(desc_num).tolist()\n",
    "tmp = np.arange(desc_num).tolist()\n",
    "for i in np.arange(desc_num):\n",
    "    tmp.remove(i)\n",
    "    for j in tmp:\n",
    "        corr_ = np.abs(corr_matrix[i,j])\n",
    "        if corr_ >= corr_lim:\n",
    "            if corr_y[i] > corr_y[j]:\n",
    "                if j in low_corr:\n",
    "                    low_corr.remove(j)\n",
    "            else:\n",
    "                if i in low_corr:\n",
    "                    low_corr.remove(i)\n",
    "label_idx = label_[low_corr]\n",
    "X_train = X_train.loc[:,label_idx]\n",
    "print(\"descriptor number after removing high correlation descriptor: {}\".format(X_train.shape[1]))"
   ]
  },
  {
   "cell_type": "code",
   "execution_count": 27,
   "metadata": {},
   "outputs": [
    {
     "data": {
      "text/plain": [
       "Index(['ATSC2m', 'AATSC0v', 'SM1_Dzs', 'n6Ring', 'AATS1dv', 'AATS2dv',\n",
       "       'C1SP2.1', 'C2SP2.1', 'SaasC.1', 'SMR_VSA5', 'SRW07'],\n",
       "      dtype='object')"
      ]
     },
     "execution_count": 27,
     "metadata": {},
     "output_type": "execute_result"
    }
   ],
   "source": [
    "label = X_train.columns\n",
    "label"
   ]
  },
  {
   "cell_type": "code",
   "execution_count": 28,
   "metadata": {},
   "outputs": [],
   "source": [
    "# store the data\n",
    "f = open('label_stat.pkl', 'wb')\n",
    "pickle.dump((label), f)\n",
    "f.close()"
   ]
  }
 ],
 "metadata": {
  "kernelspec": {
   "display_name": "Python 3",
   "language": "python",
   "name": "python3"
  },
  "language_info": {
   "codemirror_mode": {
    "name": "ipython",
    "version": 3
   },
   "file_extension": ".py",
   "mimetype": "text/x-python",
   "name": "python",
   "nbconvert_exporter": "python",
   "pygments_lexer": "ipython3",
   "version": "3.7.3"
  }
 },
 "nbformat": 4,
 "nbformat_minor": 2
}
