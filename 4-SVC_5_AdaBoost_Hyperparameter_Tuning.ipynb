{
 "cells": [
  {
   "cell_type": "code",
   "execution_count": 1,
   "metadata": {},
   "outputs": [],
   "source": [
    "import pandas as pd\n",
    "import pickle\n",
    "import numpy as np\n",
    "from sklearn.svm import SVC\n",
    "from sklearn.datasets import make_classification\n",
    "from sklearn.ensemble import AdaBoostClassifier\n",
    "from sklearn.model_selection import GridSearchCV\n",
    "from sklearn.metrics import classification_report, confusion_matrix, accuracy_score"
   ]
  },
  {
   "cell_type": "code",
   "execution_count": 2,
   "metadata": {},
   "outputs": [
    {
     "data": {
      "text/plain": [
       "(217, 2603)"
      ]
     },
     "execution_count": 2,
     "metadata": {},
     "output_type": "execute_result"
    }
   ],
   "source": [
    "#read train set\n",
    "train = pd.read_csv('train.csv')\n",
    "X_train = train.iloc[:,:-1]\n",
    "y_train = train.iloc[:,-1]\n",
    "train.shape"
   ]
  },
  {
   "cell_type": "code",
   "execution_count": 3,
   "metadata": {},
   "outputs": [
    {
     "data": {
      "text/html": [
       "<div>\n",
       "<style scoped>\n",
       "    .dataframe tbody tr th:only-of-type {\n",
       "        vertical-align: middle;\n",
       "    }\n",
       "\n",
       "    .dataframe tbody tr th {\n",
       "        vertical-align: top;\n",
       "    }\n",
       "\n",
       "    .dataframe thead th {\n",
       "        text-align: right;\n",
       "    }\n",
       "</style>\n",
       "<table border=\"1\" class=\"dataframe\">\n",
       "  <thead>\n",
       "    <tr style=\"text-align: right;\">\n",
       "      <th></th>\n",
       "      <th>SM1_Dzs</th>\n",
       "      <th>AATS1dv</th>\n",
       "      <th>C2SP2.1</th>\n",
       "      <th>AATSC0v</th>\n",
       "      <th>ATSC2m</th>\n",
       "    </tr>\n",
       "  </thead>\n",
       "  <tbody>\n",
       "    <tr>\n",
       "      <th>0</th>\n",
       "      <td>3.062025</td>\n",
       "      <td>11.174603</td>\n",
       "      <td>10</td>\n",
       "      <td>43.713379</td>\n",
       "      <td>337.017311</td>\n",
       "    </tr>\n",
       "    <tr>\n",
       "      <th>1</th>\n",
       "      <td>-1.292857</td>\n",
       "      <td>8.266667</td>\n",
       "      <td>12</td>\n",
       "      <td>46.971209</td>\n",
       "      <td>111.863599</td>\n",
       "    </tr>\n",
       "    <tr>\n",
       "      <th>2</th>\n",
       "      <td>1.769358</td>\n",
       "      <td>9.673333</td>\n",
       "      <td>15</td>\n",
       "      <td>47.308650</td>\n",
       "      <td>165.223676</td>\n",
       "    </tr>\n",
       "    <tr>\n",
       "      <th>3</th>\n",
       "      <td>1.768889</td>\n",
       "      <td>10.424242</td>\n",
       "      <td>11</td>\n",
       "      <td>45.145236</td>\n",
       "      <td>18.615523</td>\n",
       "    </tr>\n",
       "    <tr>\n",
       "      <th>4</th>\n",
       "      <td>-0.510204</td>\n",
       "      <td>6.911111</td>\n",
       "      <td>10</td>\n",
       "      <td>54.043565</td>\n",
       "      <td>517.659334</td>\n",
       "    </tr>\n",
       "  </tbody>\n",
       "</table>\n",
       "</div>"
      ],
      "text/plain": [
       "    SM1_Dzs    AATS1dv  C2SP2.1    AATSC0v      ATSC2m\n",
       "0  3.062025  11.174603       10  43.713379  337.017311\n",
       "1 -1.292857   8.266667       12  46.971209  111.863599\n",
       "2  1.769358   9.673333       15  47.308650  165.223676\n",
       "3  1.768889  10.424242       11  45.145236   18.615523\n",
       "4 -0.510204   6.911111       10  54.043565  517.659334"
      ]
     },
     "execution_count": 3,
     "metadata": {},
     "output_type": "execute_result"
    }
   ],
   "source": [
    "#select 5 descriptor\n",
    "X_train = X_train[['SM1_Dzs','AATS1dv','C2SP2.1','AATSC0v','ATSC2m']]\n",
    "X_train.head()"
   ]
  },
  {
   "cell_type": "code",
   "execution_count": 4,
   "metadata": {},
   "outputs": [
    {
     "data": {
      "text/plain": [
       "(55, 5)"
      ]
     },
     "execution_count": 4,
     "metadata": {},
     "output_type": "execute_result"
    }
   ],
   "source": [
    "#select 5 descriptor\n",
    "test = pd.read_csv('test.csv')\n",
    "X_test = test.loc[:,['SM1_Dzs','AATS1dv','C2SP2.1','AATSC0v','ATSC2m']]\n",
    "y_test = test.iloc[:,-1]\n",
    "X_test.shape"
   ]
  },
  {
   "cell_type": "code",
   "execution_count": 5,
   "metadata": {},
   "outputs": [],
   "source": [
    "#define model (parameter)\n",
    "boost = AdaBoostClassifier(random_state=3)"
   ]
  },
  {
   "cell_type": "code",
   "execution_count": 6,
   "metadata": {},
   "outputs": [],
   "source": [
    "#svc=SVC(probability=True, kernel='linear')"
   ]
  },
  {
   "cell_type": "code",
   "execution_count": 7,
   "metadata": {},
   "outputs": [],
   "source": [
    "#parameter dictionary \n",
    "gd_param = {'n_estimators':[50, 100, 150, 200, 250],\n",
    "            'learning_rate':[0.01,0.1,1.0],\n",
    "            'algorithm':['SAMME.R','SAMME']}"
   ]
  },
  {
   "cell_type": "code",
   "execution_count": 8,
   "metadata": {},
   "outputs": [],
   "source": [
    "#Pencarian nilai parameter yang ditentukan untuk estimator\n",
    "gd_search = GridSearchCV(estimator = boost,\n",
    "                         param_grid = gd_param)"
   ]
  },
  {
   "cell_type": "code",
   "execution_count": 9,
   "metadata": {},
   "outputs": [
    {
     "name": "stderr",
     "output_type": "stream",
     "text": [
      "C:\\Users\\user\\Anaconda3\\lib\\site-packages\\sklearn\\model_selection\\_split.py:2053: FutureWarning: You should specify a value for 'cv' instead of relying on the default value. The default value will change from 3 to 5 in version 0.22.\n",
      "  warnings.warn(CV_WARNING, FutureWarning)\n",
      "C:\\Users\\user\\Anaconda3\\lib\\site-packages\\sklearn\\model_selection\\_search.py:841: DeprecationWarning: The default of the `iid` parameter will change from True to False in version 0.22 and will be removed in 0.24. This will change numeric results when test-set sizes are unequal.\n",
      "  DeprecationWarning)\n"
     ]
    }
   ],
   "source": [
    "#call the fit method of the class \n",
    "modelAB = gd_search.fit(X_train, y_train)"
   ]
  },
  {
   "cell_type": "code",
   "execution_count": 10,
   "metadata": {},
   "outputs": [
    {
     "name": "stdout",
     "output_type": "stream",
     "text": [
      "{'algorithm': 'SAMME.R', 'learning_rate': 0.01, 'n_estimators': 200}\n"
     ]
    }
   ],
   "source": [
    "# check the parameters that return the highest accuracy\n",
    "best_parametersAB = modelAB.best_params_\n",
    "print(best_parametersAB)"
   ]
  },
  {
   "cell_type": "code",
   "execution_count": 11,
   "metadata": {},
   "outputs": [],
   "source": [
    "# dump information to that file\n",
    "pickle.dump(best_parametersAB, open('parameter_AB5.pkl','wb'))"
   ]
  },
  {
   "cell_type": "code",
   "execution_count": 12,
   "metadata": {},
   "outputs": [
    {
     "name": "stdout",
     "output_type": "stream",
     "text": [
      "0.6728110599078341\n"
     ]
    }
   ],
   "source": [
    "#find the best accuracy achieved\n",
    "best_result = modelAB.best_score_\n",
    "print(best_result)"
   ]
  },
  {
   "cell_type": "code",
   "execution_count": null,
   "metadata": {},
   "outputs": [],
   "source": []
  }
 ],
 "metadata": {
  "kernelspec": {
   "display_name": "Python 3",
   "language": "python",
   "name": "python3"
  },
  "language_info": {
   "codemirror_mode": {
    "name": "ipython",
    "version": 3
   },
   "file_extension": ".py",
   "mimetype": "text/x-python",
   "name": "python",
   "nbconvert_exporter": "python",
   "pygments_lexer": "ipython3",
   "version": "3.7.3"
  }
 },
 "nbformat": 4,
 "nbformat_minor": 2
}
