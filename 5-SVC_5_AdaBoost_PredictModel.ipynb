{
 "cells": [
  {
   "cell_type": "code",
   "execution_count": 1,
   "metadata": {},
   "outputs": [],
   "source": [
    "import pandas as pd\n",
    "import pickle\n",
    "import numpy as np\n",
    "from sklearn.metrics import roc_curve, auc\n",
    "from sklearn.svm import SVC\n",
    "import matplotlib.pyplot as plt\n",
    "from sklearn.ensemble import AdaBoostClassifier\n",
    "from sklearn.model_selection import GridSearchCV\n",
    "from sklearn.metrics import classification_report\n",
    "from sklearn.metrics import confusion_matrix, accuracy_score, precision_score, recall_score, f1_score, roc_auc_score, matthews_corrcoef"
   ]
  },
  {
   "cell_type": "code",
   "execution_count": 2,
   "metadata": {},
   "outputs": [
    {
     "data": {
      "text/plain": [
       "(217, 2603)"
      ]
     },
     "execution_count": 2,
     "metadata": {},
     "output_type": "execute_result"
    }
   ],
   "source": [
    "train = pd.read_csv('train.csv')\n",
    "X_train = train.iloc[:,:-1]\n",
    "y_train = train.iloc[:,-1]\n",
    "train.shape"
   ]
  },
  {
   "cell_type": "code",
   "execution_count": 3,
   "metadata": {},
   "outputs": [
    {
     "data": {
      "text/html": [
       "<div>\n",
       "<style scoped>\n",
       "    .dataframe tbody tr th:only-of-type {\n",
       "        vertical-align: middle;\n",
       "    }\n",
       "\n",
       "    .dataframe tbody tr th {\n",
       "        vertical-align: top;\n",
       "    }\n",
       "\n",
       "    .dataframe thead th {\n",
       "        text-align: right;\n",
       "    }\n",
       "</style>\n",
       "<table border=\"1\" class=\"dataframe\">\n",
       "  <thead>\n",
       "    <tr style=\"text-align: right;\">\n",
       "      <th></th>\n",
       "      <th>SM1_Dzs</th>\n",
       "      <th>AATS1dv</th>\n",
       "      <th>C2SP2.1</th>\n",
       "      <th>AATSC0v</th>\n",
       "      <th>ATSC2m</th>\n",
       "    </tr>\n",
       "  </thead>\n",
       "  <tbody>\n",
       "    <tr>\n",
       "      <th>0</th>\n",
       "      <td>3.062025</td>\n",
       "      <td>11.174603</td>\n",
       "      <td>10</td>\n",
       "      <td>43.713379</td>\n",
       "      <td>337.017311</td>\n",
       "    </tr>\n",
       "    <tr>\n",
       "      <th>1</th>\n",
       "      <td>-1.292857</td>\n",
       "      <td>8.266667</td>\n",
       "      <td>12</td>\n",
       "      <td>46.971209</td>\n",
       "      <td>111.863599</td>\n",
       "    </tr>\n",
       "    <tr>\n",
       "      <th>2</th>\n",
       "      <td>1.769358</td>\n",
       "      <td>9.673333</td>\n",
       "      <td>15</td>\n",
       "      <td>47.308650</td>\n",
       "      <td>165.223676</td>\n",
       "    </tr>\n",
       "    <tr>\n",
       "      <th>3</th>\n",
       "      <td>1.768889</td>\n",
       "      <td>10.424242</td>\n",
       "      <td>11</td>\n",
       "      <td>45.145236</td>\n",
       "      <td>18.615523</td>\n",
       "    </tr>\n",
       "    <tr>\n",
       "      <th>4</th>\n",
       "      <td>-0.510204</td>\n",
       "      <td>6.911111</td>\n",
       "      <td>10</td>\n",
       "      <td>54.043565</td>\n",
       "      <td>517.659334</td>\n",
       "    </tr>\n",
       "  </tbody>\n",
       "</table>\n",
       "</div>"
      ],
      "text/plain": [
       "    SM1_Dzs    AATS1dv  C2SP2.1    AATSC0v      ATSC2m\n",
       "0  3.062025  11.174603       10  43.713379  337.017311\n",
       "1 -1.292857   8.266667       12  46.971209  111.863599\n",
       "2  1.769358   9.673333       15  47.308650  165.223676\n",
       "3  1.768889  10.424242       11  45.145236   18.615523\n",
       "4 -0.510204   6.911111       10  54.043565  517.659334"
      ]
     },
     "execution_count": 3,
     "metadata": {},
     "output_type": "execute_result"
    }
   ],
   "source": [
    "X_train = X_train[['SM1_Dzs','AATS1dv','C2SP2.1','AATSC0v','ATSC2m']]\n",
    "X_train.head()"
   ]
  },
  {
   "cell_type": "code",
   "execution_count": 4,
   "metadata": {},
   "outputs": [
    {
     "name": "stdout",
     "output_type": "stream",
     "text": [
      "The history saving thread hit an unexpected error (OperationalError('database is locked')).History will not be written to the database.\n"
     ]
    },
    {
     "data": {
      "text/plain": [
       "(55, 5)"
      ]
     },
     "execution_count": 4,
     "metadata": {},
     "output_type": "execute_result"
    }
   ],
   "source": [
    "test = pd.read_csv('test.csv')\n",
    "X_test = test.loc[:,['SM1_Dzs','AATS1dv','C2SP2.1','AATSC0v','ATSC2m']]\n",
    "y_test = test.iloc[:,-1]\n",
    "X_test.shape"
   ]
  },
  {
   "cell_type": "code",
   "execution_count": 5,
   "metadata": {},
   "outputs": [
    {
     "data": {
      "text/plain": [
       "{'algorithm': 'SAMME.R', 'learning_rate': 0.01, 'n_estimators': 200}"
      ]
     },
     "execution_count": 5,
     "metadata": {},
     "output_type": "execute_result"
    }
   ],
   "source": [
    "# read best parameters \n",
    "param_best = open('parameter_AB5.pkl','rb')\n",
    "best_parametersAB = pickle.load(param_best)\n",
    "best_parametersAB"
   ]
  },
  {
   "cell_type": "code",
   "execution_count": 6,
   "metadata": {},
   "outputs": [],
   "source": [
    "svc=SVC(probability=True, kernel='linear')"
   ]
  },
  {
   "cell_type": "code",
   "execution_count": 7,
   "metadata": {},
   "outputs": [],
   "source": [
    "#define model (parameter)\n",
    "boost = AdaBoostClassifier(n_estimators = 200,\n",
    "                           base_estimator=svc,\n",
    "                           learning_rate = 0.01,\n",
    "                           algorithm='SAMME.R',\n",
    "                           random_state=3)"
   ]
  },
  {
   "cell_type": "code",
   "execution_count": 8,
   "metadata": {},
   "outputs": [
    {
     "data": {
      "text/plain": [
       "AdaBoostClassifier(algorithm='SAMME.R',\n",
       "          base_estimator=SVC(C=1.0, cache_size=200, class_weight=None, coef0=0.0,\n",
       "  decision_function_shape='ovr', degree=3, gamma='auto_deprecated',\n",
       "  kernel='linear', max_iter=-1, probability=True, random_state=None,\n",
       "  shrinking=True, tol=0.001, verbose=False),\n",
       "          learning_rate=0.01, n_estimators=200, random_state=3)"
      ]
     },
     "execution_count": 8,
     "metadata": {},
     "output_type": "execute_result"
    }
   ],
   "source": [
    "#fit model\n",
    "boost.fit(X_train, y_train)"
   ]
  },
  {
   "cell_type": "code",
   "execution_count": 9,
   "metadata": {},
   "outputs": [],
   "source": [
    "# predicting the train set results\n",
    "y_pred_train = boost.predict(X_train)"
   ]
  },
  {
   "cell_type": "code",
   "execution_count": 10,
   "metadata": {},
   "outputs": [],
   "source": [
    "# predicting the test set results\n",
    "y_pred_test = boost.predict(X_test)"
   ]
  },
  {
   "cell_type": "code",
   "execution_count": 11,
   "metadata": {},
   "outputs": [],
   "source": [
    "y_proba_train = boost.predict_proba(X_train)"
   ]
  },
  {
   "cell_type": "code",
   "execution_count": 12,
   "metadata": {},
   "outputs": [],
   "source": [
    "y_proba_test = boost.predict_proba(X_test)"
   ]
  },
  {
   "cell_type": "code",
   "execution_count": 13,
   "metadata": {},
   "outputs": [],
   "source": [
    "y_proba_train = y_proba_train[:,1]"
   ]
  },
  {
   "cell_type": "code",
   "execution_count": 14,
   "metadata": {},
   "outputs": [],
   "source": [
    "y_proba_test = y_proba_test[:,1]"
   ]
  },
  {
   "cell_type": "code",
   "execution_count": 15,
   "metadata": {},
   "outputs": [],
   "source": [
    "#y_proba_train"
   ]
  },
  {
   "cell_type": "code",
   "execution_count": 16,
   "metadata": {},
   "outputs": [],
   "source": [
    "#y_proba_test"
   ]
  },
  {
   "cell_type": "code",
   "execution_count": 17,
   "metadata": {},
   "outputs": [
    {
     "data": {
      "text/plain": [
       "0.7016806722689075"
      ]
     },
     "execution_count": 17,
     "metadata": {},
     "output_type": "execute_result"
    }
   ],
   "source": [
    "AUC_train = roc_auc_score(y_train, y_proba_train)\n",
    "AUC_train"
   ]
  },
  {
   "cell_type": "code",
   "execution_count": 18,
   "metadata": {},
   "outputs": [
    {
     "data": {
      "text/plain": [
       "0.7148541114058355"
      ]
     },
     "execution_count": 18,
     "metadata": {},
     "output_type": "execute_result"
    }
   ],
   "source": [
    "AUC_test= roc_auc_score(y_test, y_proba_test)\n",
    "AUC_test"
   ]
  },
  {
   "cell_type": "code",
   "execution_count": 19,
   "metadata": {},
   "outputs": [],
   "source": [
    "fpr1, tpr1, _ = roc_curve(y_train, y_proba_train)\n",
    "fpr2, tpr2, _ = roc_curve(y_test, y_proba_test)"
   ]
  },
  {
   "cell_type": "code",
   "execution_count": 20,
   "metadata": {},
   "outputs": [
    {
     "name": "stdout",
     "output_type": "stream",
     "text": [
      "confusion matrix:\n",
      "[[ 36  62]\n",
      " [ 18 101]]\n",
      "classification report:\n",
      "              precision    recall  f1-score   support\n",
      "\n",
      "           0       0.67      0.37      0.47        98\n",
      "           1       0.62      0.85      0.72       119\n",
      "\n",
      "   micro avg       0.63      0.63      0.63       217\n",
      "   macro avg       0.64      0.61      0.59       217\n",
      "weighted avg       0.64      0.63      0.61       217\n",
      "\n",
      "accuracy score  : 0.631336405529954\n",
      "roc_auc score   : 0.7016806722689075\n",
      "MCC             : 0.24872723391760487\n"
     ]
    }
   ],
   "source": [
    "#Evaluating the Algorithm train set\n",
    "\n",
    "print('confusion matrix:')\n",
    "print(confusion_matrix(y_train,y_pred_train))\n",
    "print('classification report:')\n",
    "print(classification_report(y_train, y_pred_train))\n",
    "print('accuracy score  :',accuracy_score(y_train, y_pred_train))\n",
    "print('roc_auc score   :',roc_auc_score(y_train, y_proba_train))\n",
    "print('MCC             :',matthews_corrcoef(y_train, y_pred_train))"
   ]
  },
  {
   "cell_type": "code",
   "execution_count": 21,
   "metadata": {},
   "outputs": [
    {
     "name": "stdout",
     "output_type": "stream",
     "text": [
      "confusion matrix:\n",
      "[[11 18]\n",
      " [ 1 25]]\n",
      "classification report:\n",
      "              precision    recall  f1-score   support\n",
      "\n",
      "           0       0.92      0.38      0.54        29\n",
      "           1       0.58      0.96      0.72        26\n",
      "\n",
      "   micro avg       0.65      0.65      0.65        55\n",
      "   macro avg       0.75      0.67      0.63        55\n",
      "weighted avg       0.76      0.65      0.63        55\n",
      "\n",
      "accuracy score  : 0.6545454545454545\n",
      "roc_auc score   : 0.7148541114058355\n",
      "MCC             : 0.41202408119036454\n"
     ]
    }
   ],
   "source": [
    "#Evaluating the Algorithm test set\n",
    "\n",
    "print('confusion matrix:')\n",
    "print(confusion_matrix(y_test,y_pred_test))\n",
    "print('classification report:')\n",
    "print(classification_report(y_test, y_pred_test))\n",
    "print('accuracy score  :',accuracy_score(y_test, y_pred_test))\n",
    "print('roc_auc score   :',roc_auc_score(y_test, y_proba_test))\n",
    "print('MCC             :',matthews_corrcoef(y_test, y_pred_test))"
   ]
  },
  {
   "cell_type": "code",
   "execution_count": 22,
   "metadata": {},
   "outputs": [
    {
     "name": "stdout",
     "output_type": "stream",
     "text": [
      "roc_auc score   : 0.6704244031830239\n"
     ]
    }
   ],
   "source": [
    "print('roc_auc score   :',roc_auc_score(y_test, y_pred_test))"
   ]
  },
  {
   "cell_type": "code",
   "execution_count": 23,
   "metadata": {},
   "outputs": [],
   "source": [
    "#plt.plot(fpr1, tpr1, color='red', label='Train')\n",
    "#plt.plot(fpr2, tpr2, color='black', label='Test'\n",
    "#plt.xlabel('False Positive Rate')\n",
    "#plt.ylabel('True Positive Rate')\n",
    "#plt.title('Receiver Operating Characteristic Model 4')\n",
    "#plt.legend(loc=\"lower right\")\n",
    "#plt.savefig('ROC AB5.png', dpi = 1000)"
   ]
  }
 ],
 "metadata": {
  "kernelspec": {
   "display_name": "Python 3",
   "language": "python",
   "name": "python3"
  },
  "language_info": {
   "codemirror_mode": {
    "name": "ipython",
    "version": 3
   },
   "file_extension": ".py",
   "mimetype": "text/x-python",
   "name": "python",
   "nbconvert_exporter": "python",
   "pygments_lexer": "ipython3",
   "version": "3.7.3"
  }
 },
 "nbformat": 4,
 "nbformat_minor": 2
}
